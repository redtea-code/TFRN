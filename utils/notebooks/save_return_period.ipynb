{
 "cells": [
  {
   "cell_type": "code",
   "execution_count": 4,
   "id": "4200b406",
   "metadata": {},
   "outputs": [
    {
     "data": {
      "text/plain": [
       "0.75"
      ]
     },
     "execution_count": 4,
     "metadata": {},
     "output_type": "execute_result"
    }
   ],
   "source": [
    "from backend.return_period_metrics import _true_positives_fraction_in_window\n",
    "import numpy as np\n",
    "\n",
    "a = pd.DataFrame([1,1,1,1,1,1,1,1,0,0])\n",
    "b = pd.DataFrame([0,0,1,1,0,0,0,0,0,0])\n",
    "precision = _true_positives_fraction_in_window(\n",
    "        a, b, True, 2\n",
    "    )\n",
    "precision"
   ]
  },
  {
   "cell_type": "code",
   "execution_count": 1,
   "id": "c36a337c",
   "metadata": {},
   "outputs": [
    {
     "ename": "FileNotFoundError",
     "evalue": "[Errno 2] No such file or directory: 'E:\\\\cyh\\\\global_streamflow_model_paper-main\\\\global_streamflow_model_paper-main\\\\metadata\\\\naturalearth_lowres.geojson'",
     "output_type": "error",
     "traceback": [
      "\u001b[1;31m---------------------------------------------------------------------------\u001b[0m",
      "\u001b[1;31mFileNotFoundError\u001b[0m                         Traceback (most recent call last)",
      "Cell \u001b[1;32mIn[1], line 4\u001b[0m\n\u001b[0;32m      2\u001b[0m \u001b[38;5;28;01mimport\u001b[39;00m \u001b[38;5;21;01mos\u001b[39;00m\n\u001b[0;32m      3\u001b[0m \u001b[38;5;28;01mfrom\u001b[39;00m \u001b[38;5;21;01msklearn\u001b[39;00m\u001b[38;5;21;01m.\u001b[39;00m\u001b[38;5;21;01mmetrics\u001b[39;00m \u001b[38;5;28;01mimport\u001b[39;00m r2_score\n\u001b[1;32m----> 4\u001b[0m \u001b[38;5;28;01mfrom\u001b[39;00m \u001b[38;5;21;01mbackend\u001b[39;00m\u001b[38;5;21;01m.\u001b[39;00m\u001b[38;5;21;01mreturn_period_metrics\u001b[39;00m \u001b[38;5;28;01mimport\u001b[39;00m calculate_return_period_performance_metrics\n\u001b[0;32m      5\u001b[0m \u001b[38;5;28;01mfrom\u001b[39;00m \u001b[38;5;21;01mtqdm\u001b[39;00m \u001b[38;5;28;01mimport\u001b[39;00m tqdm\n\u001b[0;32m      6\u001b[0m root \u001b[38;5;241m=\u001b[39m \u001b[38;5;124mr\u001b[39m\u001b[38;5;124m'\u001b[39m\u001b[38;5;124mD:\u001b[39m\u001b[38;5;124m\\\u001b[39m\u001b[38;5;124mRR-Former\u001b[39m\u001b[38;5;124m\\\u001b[39m\u001b[38;5;124mruns\u001b[39m\u001b[38;5;124m\\\u001b[39m\u001b[38;5;124mTFRN_noATTR_[[372-7-57-128][365-1-128][-7-256-128]-0.2]_daymet671_1980~1995#1995~2000#2000~2014_372_365_7_57_1]_QLoss_n100_bs512_lr0.001_warm_up_seedNone\u001b[39m\u001b[38;5;124m\\\u001b[39m\u001b[38;5;124mpretrain_test_single\u001b[39m\u001b[38;5;124m'\u001b[39m\n",
      "File \u001b[1;32mD:\\OASA2\\notebooks\\backend\\return_period_metrics.py:14\u001b[0m\n\u001b[0;32m     11\u001b[0m \u001b[38;5;28;01mimport\u001b[39;00m \u001b[38;5;21;01mxarray\u001b[39;00m\n\u001b[0;32m     13\u001b[0m \u001b[38;5;28;01mfrom\u001b[39;00m \u001b[38;5;21;01mbackend\u001b[39;00m \u001b[38;5;28;01mimport\u001b[39;00m data_paths\n\u001b[1;32m---> 14\u001b[0m \u001b[38;5;28;01mfrom\u001b[39;00m \u001b[38;5;21;01mbackend\u001b[39;00m \u001b[38;5;28;01mimport\u001b[39;00m evaluation_utils\n\u001b[0;32m     15\u001b[0m \u001b[38;5;28;01mfrom\u001b[39;00m \u001b[38;5;21;01mbackend\u001b[39;00m \u001b[38;5;28;01mimport\u001b[39;00m loading_utils\n\u001b[0;32m     16\u001b[0m \u001b[38;5;28;01mfrom\u001b[39;00m \u001b[38;5;21;01mbackend\u001b[39;00m \u001b[38;5;28;01mimport\u001b[39;00m metrics_utils\n",
      "File \u001b[1;32mD:\\OASA2\\notebooks\\backend\\evaluation_utils.py:24\u001b[0m\n\u001b[0;32m     19\u001b[0m RETURN_PERIODS \u001b[38;5;241m=\u001b[39m [\u001b[38;5;241m1.01\u001b[39m, \u001b[38;5;241m2\u001b[39m, \u001b[38;5;241m5\u001b[39m, \u001b[38;5;241m10\u001b[39m, \u001b[38;5;241m20\u001b[39m, \u001b[38;5;241m50\u001b[39m]\n\u001b[0;32m     21\u001b[0m \u001b[38;5;66;03m# Country outlines. Read a GeoDataFrame from file (this is the only way I've\u001b[39;00m\n\u001b[0;32m     22\u001b[0m \u001b[38;5;66;03m# found within the Google environment).\u001b[39;00m\n\u001b[0;32m     23\u001b[0m COUNTRIES \u001b[38;5;241m=\u001b[39m gpd\u001b[38;5;241m.\u001b[39mread_file(\n\u001b[1;32m---> 24\u001b[0m     \u001b[38;5;28;43mopen\u001b[39;49m\u001b[43m(\u001b[49m\u001b[43mdata_paths\u001b[49m\u001b[38;5;241;43m.\u001b[39;49m\u001b[43mCOUNTRY_POLYGONS_FILENAME\u001b[49m\u001b[43m)\u001b[49m)\n\u001b[0;32m     25\u001b[0m COUNTRIES\u001b[38;5;241m.\u001b[39mrename(columns\u001b[38;5;241m=\u001b[39m{\u001b[38;5;124m'\u001b[39m\u001b[38;5;124mname\u001b[39m\u001b[38;5;124m'\u001b[39m: \u001b[38;5;124m'\u001b[39m\u001b[38;5;124mcountry_name\u001b[39m\u001b[38;5;124m'\u001b[39m}, inplace\u001b[38;5;241m=\u001b[39m\u001b[38;5;28;01mTrue\u001b[39;00m)\n\u001b[0;32m     26\u001b[0m COUNTRIES \u001b[38;5;241m=\u001b[39m COUNTRIES[COUNTRIES[\u001b[38;5;124m'\u001b[39m\u001b[38;5;124mcontinent\u001b[39m\u001b[38;5;124m'\u001b[39m] \u001b[38;5;241m!=\u001b[39m \u001b[38;5;124m'\u001b[39m\u001b[38;5;124mAntarctica\u001b[39m\u001b[38;5;124m'\u001b[39m]\n",
      "\u001b[1;31mFileNotFoundError\u001b[0m: [Errno 2] No such file or directory: 'E:\\\\cyh\\\\global_streamflow_model_paper-main\\\\global_streamflow_model_paper-main\\\\metadata\\\\naturalearth_lowres.geojson'"
     ]
    }
   ],
   "source": [
    "import pandas as pd\n",
    "import os\n",
    "from sklearn.metrics import r2_score\n",
    "from backend.return_period_metrics import calculate_return_period_performance_metrics\n",
    "from tqdm import tqdm\n",
    "root = r'D:\\RR-Former\\runs\\TFRN_noATTR_[[372-7-57-128][365-1-128][-7-256-128]-0.2]_daymet671_1980~1995#1995~2000#2000~2014_372_365_7_57_1]_QLoss_n100_bs512_lr0.001_warm_up_seedNone\\pretrain_test_single'"
   ]
  },
  {
   "cell_type": "code",
   "execution_count": 22,
   "id": "ef4facae",
   "metadata": {},
   "outputs": [
    {
     "name": "stderr",
     "output_type": "stream",
     "text": [
      "100%|███████████████████████████████████████████████████████████████████████████████| 149/149 [00:00<00:00, 151.73it/s]"
     ]
    },
    {
     "name": "stdout",
     "output_type": "stream",
     "text": [
      "r2:-201.53111315672507,MSE:11.283230332244823,NSE:-201.53111315672507,BIAS:18.759750810290836\n",
      "r2:-0.4981017423334855,MSE:4.965328426088739,NSE:-0.4981017423334855,BIAS:1.657248517260738\n"
     ]
    },
    {
     "name": "stderr",
     "output_type": "stream",
     "text": [
      "\n"
     ]
    }
   ],
   "source": [
    "def save_period(root=root):\n",
    "    data_path = r'E:\\cyh\\global_streamflow_model_paper-main\\global_streamflow_model_paper-main\\Model\\result\\TSF_forcast'\n",
    "\n",
    "    all_dt = pd.DataFrame([])\n",
    "    \n",
    "    for file in tqdm(os.listdir(data_path)):\n",
    "        if file.endswith(\".csv\") and not file == 'return_period.csv':\n",
    "            data_file = os.path.join(data_path, file)\n",
    "            basin = file.split(\".\")[0]\n",
    "\n",
    "            hydro_series = pd.read_csv(data_file, index_col=0)\n",
    "            hydro_series.columns = ['qobs', 'qsim', 'month', 'day',\"weekend\", 'year']\n",
    "\n",
    "            time_df = hydro_series[['month', 'day', 'year']]\n",
    "            indx = pd.to_datetime(time_df)\n",
    "            hydro_series.index = indx.astype(\"str\")\n",
    "\n",
    "            obs_series = hydro_series.iloc[:, 0]\n",
    "            sim_seres = hydro_series.iloc[:, 1]\n",
    "            \n",
    "            r2 = r2_score(obs_series,sim_seres)\n",
    "            nse = calc_nse(obs_series,sim_seres)\n",
    "            mse = calc_mse(obs_series,sim_seres)\n",
    "            bias = calc_bias(obs_series,sim_seres)\n",
    "            r2s.append(r2)\n",
    "            nses.append(nse)\n",
    "            mses.append(mse)\n",
    "            biass.append(bias)\n",
    "            \n",
    "#             try:\n",
    "#                 dt = calculate_return_period_performance_metrics(observations=obs_series,\n",
    "#                                                                  predictions=sim_seres,\n",
    "#                                                                  temporal_resolution=\"1D\")\n",
    "#             except:\n",
    "#                 continue\n",
    "#             df1 = pd.DataFrame(dt[0], index=[basin])\n",
    "#             df2 = pd.DataFrame(dt[1], index=[basin])\n",
    "\n",
    "#             df = pd.concat([df1, df2], axis=1)\n",
    "#             all_dt = pd.concat([all_dt, df])\n",
    "#     print(all_dt.sum()/len(all_dt))\n",
    "#     display(all_dt.median())\n",
    "    \n",
    "#     save_path = os.path.join(data_path, \"return_period.csv\")\n",
    "#     if os.path.exists(save_path):\n",
    "#         os.remove(save_path)\n",
    "#         all_dt.to_csv(save_path)\n",
    "#     else:\n",
    "#         all_dt.to_csv(save_path)\n",
    "    print(f\"r2:{np.mean(r2s)},MSE:{np.mean(mses)},NSE:{np.mean(nses)},BIAS:{np.mean(biass)}\")\n",
    "    print(f\"r2:{np.median(r2s)},MSE:{np.median(mses)},NSE:{np.median(nses)},BIAS:{np.median(biass)}\")\n",
    "    \n",
    "    return r2s\n",
    "r2s = save_period()"
   ]
  },
  {
   "cell_type": "code",
   "execution_count": null,
   "id": "3bb03732",
   "metadata": {},
   "outputs": [],
   "source": []
  },
  {
   "cell_type": "code",
   "execution_count": null,
   "id": "9de46d59",
   "metadata": {},
   "outputs": [],
   "source": []
  },
  {
   "cell_type": "code",
   "execution_count": 14,
   "id": "bbd6fa9a",
   "metadata": {},
   "outputs": [],
   "source": [
    "import pandas as pd\n",
    "import os\n",
    "from sklearn.metrics import r2_score\n",
    "from backend.return_period_metrics import calculate_return_period_performance_metrics\n",
    "from tqdm import tqdm\n",
    "\n",
    "def metric_cal(path):\n",
    "    data_path = path\n",
    "    all_dt = pd.DataFrame([])\n",
    "    r2s,nses = [], []\n",
    "\n",
    "    for file in tqdm(os.listdir(data_path)):\n",
    "        if file.endswith(\".csv\") and not file == 'return_period.csv':\n",
    "            data_file = os.path.join(data_path, file)\n",
    "            basin = file.split(\".\")[0]\n",
    "\n",
    "            hydro_series = pd.read_csv(data_file, index_col=0)\n",
    "            hydro_series.columns = ['qobs', 'qsim', 'month', 'day',\"weekend\", 'year']\n",
    "\n",
    "            time_df = hydro_series[['month', 'day', 'year']]\n",
    "            indx = pd.to_datetime(time_df)\n",
    "            hydro_series.index = indx.astype(\"str\")\n",
    "\n",
    "            obs_series = hydro_series.iloc[:, 0]\n",
    "            sim_seres = hydro_series.iloc[:, 1]\n",
    "            r2 = r2_score(obs_series,sim_seres)\n",
    "            nse = calc_nse(obs_series.values,sim_seres.values)\n",
    "            r2s.append(r2)\n",
    "            nses.append(nse)\n",
    "    return nses"
   ]
  },
  {
   "cell_type": "code",
   "execution_count": 20,
   "id": "38a81c93",
   "metadata": {},
   "outputs": [
    {
     "name": "stderr",
     "output_type": "stream",
     "text": [
      "100%|████████████████████████████████████████████████████████████████████████████████| 483/483 [00:10<00:00, 45.12it/s]\n"
     ]
    },
    {
     "name": "stdout",
     "output_type": "stream",
     "text": [
      "param_ED\n",
      "nse_mean:-13.345391508817412\n",
      "nse_median:-2.9448555622525605\n"
     ]
    },
    {
     "name": "stderr",
     "output_type": "stream",
     "text": [
      "100%|████████████████████████████████████████████████████████████████████████████████| 483/483 [00:08<00:00, 55.22it/s]\n"
     ]
    },
    {
     "name": "stdout",
     "output_type": "stream",
     "text": [
      "patch\n",
      "nse_mean:-0.4031312907089912\n",
      "nse_median:-0.16730297205364786\n"
     ]
    },
    {
     "name": "stderr",
     "output_type": "stream",
     "text": [
      "100%|████████████████████████████████████████████████████████████████████████████████| 483/483 [00:10<00:00, 45.98it/s]\n"
     ]
    },
    {
     "name": "stdout",
     "output_type": "stream",
     "text": [
      "prelen1_EALSTM\n",
      "nse_mean:-0.6693747225728598\n",
      "nse_median:-0.6693747225728599\n"
     ]
    },
    {
     "name": "stderr",
     "output_type": "stream",
     "text": [
      "100%|████████████████████████████████████████████████████████████████████████████████| 483/483 [00:10<00:00, 46.82it/s]\n"
     ]
    },
    {
     "name": "stdout",
     "output_type": "stream",
     "text": [
      "prelen1_EALSTM_37\n",
      "nse_mean:-6.2003339142973655\n",
      "nse_median:-6.2003339142973655\n"
     ]
    },
    {
     "name": "stderr",
     "output_type": "stream",
     "text": [
      "100%|████████████████████████████████████████████████████████████████████████████████| 483/483 [00:10<00:00, 45.56it/s]\n"
     ]
    },
    {
     "name": "stdout",
     "output_type": "stream",
     "text": [
      "prelen1_EALSTM_38\n",
      "nse_mean:-581.2494434455988\n",
      "nse_median:-15.40586524621251\n"
     ]
    },
    {
     "name": "stderr",
     "output_type": "stream",
     "text": [
      "100%|████████████████████████████████████████████████████████████████████████████████| 483/483 [00:10<00:00, 45.39it/s]\n"
     ]
    },
    {
     "name": "stdout",
     "output_type": "stream",
     "text": [
      "prelen1_EALSTM_att\n",
      "nse_mean:-0.7595491364604305\n",
      "nse_median:-0.7595491364604308\n"
     ]
    },
    {
     "name": "stderr",
     "output_type": "stream",
     "text": [
      "100%|████████████████████████████████████████████████████████████████████████████████| 483/483 [00:10<00:00, 46.52it/s]\n"
     ]
    },
    {
     "name": "stdout",
     "output_type": "stream",
     "text": [
      "prelen1_EDLSTM\n",
      "nse_mean:-0.538505696292427\n",
      "nse_median:-0.03363748933587918\n"
     ]
    },
    {
     "name": "stderr",
     "output_type": "stream",
     "text": [
      "100%|████████████████████████████████████████████████████████████████████████████████| 483/483 [00:10<00:00, 46.88it/s]\n"
     ]
    },
    {
     "name": "stdout",
     "output_type": "stream",
     "text": [
      "prelen1_EE_former\n",
      "nse_mean:-1.1481768120802305\n",
      "nse_median:-1.148176812080231\n"
     ]
    },
    {
     "name": "stderr",
     "output_type": "stream",
     "text": [
      "100%|████████████████████████████████████████████████████████████████████████████████| 483/483 [00:10<00:00, 46.62it/s]\n"
     ]
    },
    {
     "name": "stdout",
     "output_type": "stream",
     "text": [
      "prelen1_MTLLSTM\n",
      "nse_mean:-1.0382259671104244\n",
      "nse_median:-1.038225967110424\n"
     ]
    },
    {
     "name": "stderr",
     "output_type": "stream",
     "text": [
      "100%|████████████████████████████████████████████████████████████████████████████████| 483/483 [00:10<00:00, 46.20it/s]\n"
     ]
    },
    {
     "name": "stdout",
     "output_type": "stream",
     "text": [
      "prelen1_MTLLSTM_101\n",
      "nse_mean:-0.10829178930448125\n",
      "nse_median:-0.10829178930448125\n"
     ]
    },
    {
     "name": "stderr",
     "output_type": "stream",
     "text": [
      "100%|████████████████████████████████████████████████████████████████████████████████| 483/483 [00:10<00:00, 46.72it/s]\n"
     ]
    },
    {
     "name": "stdout",
     "output_type": "stream",
     "text": [
      "prelen7_EALSTM\n",
      "nse_mean:-20.253677513042224\n",
      "nse_median:-20.253677513042224\n"
     ]
    },
    {
     "name": "stderr",
     "output_type": "stream",
     "text": [
      "100%|████████████████████████████████████████████████████████████████████████████████| 483/483 [00:10<00:00, 46.75it/s]\n"
     ]
    },
    {
     "name": "stdout",
     "output_type": "stream",
     "text": [
      "prelen7_EDLSTM\n",
      "nse_mean:-146.00099281988582\n",
      "nse_median:-146.00099281988588\n"
     ]
    },
    {
     "name": "stderr",
     "output_type": "stream",
     "text": [
      "100%|████████████████████████████████████████████████████████████████████████████████| 483/483 [00:10<00:00, 46.77it/s]\n"
     ]
    },
    {
     "name": "stdout",
     "output_type": "stream",
     "text": [
      "Repr_try\n",
      "nse_mean:-4.54731958830936\n",
      "nse_median:-0.06824005138326239\n"
     ]
    },
    {
     "name": "stderr",
     "output_type": "stream",
     "text": [
      "100%|████████████████████████████████████████████████████████████████████████████████| 483/483 [00:13<00:00, 34.91it/s]\n"
     ]
    },
    {
     "name": "stdout",
     "output_type": "stream",
     "text": [
      "slstm\n",
      "nse_mean:-12.651417605733965\n",
      "nse_median:0.047274622511335684\n"
     ]
    },
    {
     "name": "stderr",
     "output_type": "stream",
     "text": [
      "100%|████████████████████████████████████████████████████████████████████████████████| 483/483 [00:10<00:00, 45.63it/s]\n"
     ]
    },
    {
     "name": "stdout",
     "output_type": "stream",
     "text": [
      "time-grad\n",
      "nse_mean:-0.36883439305340476\n",
      "nse_median:-0.011949896675179539\n"
     ]
    },
    {
     "name": "stderr",
     "output_type": "stream",
     "text": [
      "100%|████████████████████████████████████████████████████████████████████████████████| 483/483 [00:10<00:00, 46.53it/s]\n"
     ]
    },
    {
     "name": "stdout",
     "output_type": "stream",
     "text": [
      "time-grad-EA\n",
      "nse_mean:-2869046467697475.0\n",
      "nse_median:-8758782859917.288\n"
     ]
    },
    {
     "name": "stderr",
     "output_type": "stream",
     "text": [
      "100%|████████████████████████████████████████████████████████████████████████████████| 483/483 [00:10<00:00, 46.62it/s]\n"
     ]
    },
    {
     "name": "stdout",
     "output_type": "stream",
     "text": [
      "time-grad_aux\n",
      "nse_mean:-37.035575579727094\n",
      "nse_median:-0.22248920915375325\n"
     ]
    },
    {
     "name": "stderr",
     "output_type": "stream",
     "text": [
      "100%|████████████████████████████████████████████████████████████████████████████████| 483/483 [00:07<00:00, 61.02it/s]\n"
     ]
    },
    {
     "name": "stdout",
     "output_type": "stream",
     "text": [
      "TimesNet\n",
      "nse_mean:-0.9876632525048435\n",
      "nse_median:-0.2689028215717977\n"
     ]
    },
    {
     "name": "stderr",
     "output_type": "stream",
     "text": [
      "100%|████████████████████████████████████████████████████████████████████████████████| 483/483 [00:07<00:00, 65.12it/s]\n"
     ]
    },
    {
     "name": "stdout",
     "output_type": "stream",
     "text": [
      "Ts-unet\n",
      "nse_mean:0.05359601050444738\n",
      "nse_median:0.0664449770760221\n"
     ]
    },
    {
     "name": "stderr",
     "output_type": "stream",
     "text": [
      "100%|████████████████████████████████████████████████████████████████████████████████| 483/483 [00:10<00:00, 46.94it/s]\n"
     ]
    },
    {
     "name": "stdout",
     "output_type": "stream",
     "text": [
      "TSunet-deep\n",
      "nse_mean:-0.029843225095029034\n",
      "nse_median:0.08830979157843949\n"
     ]
    },
    {
     "name": "stderr",
     "output_type": "stream",
     "text": [
      "100%|████████████████████████████████████████████████████████████████████████████████| 483/483 [00:10<00:00, 46.61it/s]\n"
     ]
    },
    {
     "name": "stdout",
     "output_type": "stream",
     "text": [
      "TSunet-state\n",
      "nse_mean:-0.23755087178452824\n",
      "nse_median:0.038194612576390174\n"
     ]
    },
    {
     "name": "stderr",
     "output_type": "stream",
     "text": [
      "100%|████████████████████████████████████████████████████████████████████████████████| 483/483 [00:07<00:00, 63.07it/s]\n"
     ]
    },
    {
     "name": "stdout",
     "output_type": "stream",
     "text": [
      "tsunet_finetune\n",
      "nse_mean:-0.6145795641217766\n",
      "nse_median:-0.10919935927067415\n"
     ]
    },
    {
     "name": "stderr",
     "output_type": "stream",
     "text": [
      "100%|████████████████████████████████████████████████████████████████████████████████| 483/483 [00:11<00:00, 41.27it/s]\n"
     ]
    },
    {
     "name": "stdout",
     "output_type": "stream",
     "text": [
      "Unet\n",
      "nse_mean:0.7033422762293755\n",
      "nse_median:0.7241809491778707\n"
     ]
    },
    {
     "name": "stderr",
     "output_type": "stream",
     "text": [
      "100%|████████████████████████████████████████████████████████████████████████████████| 483/483 [00:10<00:00, 45.73it/s]\n"
     ]
    },
    {
     "name": "stdout",
     "output_type": "stream",
     "text": [
      "Unet_adjust\n",
      "nse_mean:-1.0208874553355305\n",
      "nse_median:-0.0973420706770457\n"
     ]
    },
    {
     "name": "stderr",
     "output_type": "stream",
     "text": [
      "100%|████████████████████████████████████████████████████████████████████████████████| 483/483 [00:10<00:00, 46.61it/s]\n"
     ]
    },
    {
     "name": "stdout",
     "output_type": "stream",
     "text": [
      "VAE\n",
      "nse_mean:0.4713996482297065\n",
      "nse_median:0.4713996482297067\n"
     ]
    },
    {
     "name": "stderr",
     "output_type": "stream",
     "text": [
      "100%|████████████████████████████████████████████████████████████████████████████████| 483/483 [00:10<00:00, 45.10it/s]"
     ]
    },
    {
     "name": "stdout",
     "output_type": "stream",
     "text": [
      "延迟一天EALSTM\n",
      "nse_mean:-59.74007505931706\n",
      "nse_median:-59.74007505931706\n"
     ]
    },
    {
     "name": "stderr",
     "output_type": "stream",
     "text": [
      "\n"
     ]
    }
   ],
   "source": [
    "root = r'E:\\cyh\\global_streamflow_model_paper-main\\global_streamflow_model_paper-main\\Model\\result'\n",
    "\n",
    "all_path = [os.path.join(root,name) for name in os.listdir(root)]\n",
    "for path in all_path[31:]:\n",
    "    nses = metric_cal(path)\n",
    "    print(path.split(\"\\\\\")[-1])\n",
    "    print(\"nse_mean:{}\".format(np.mean(nses)))\n",
    "    print(\"nse_median:{}\".format(np.median(nses)))"
   ]
  },
  {
   "cell_type": "code",
   "execution_count": 17,
   "id": "7d49d850",
   "metadata": {},
   "outputs": [],
   "source": [
    "import numpy as np\n",
    "\n",
    "x = np.random.rand(60,5)\n",
    "y = np.arange(60)[:,None]\n",
    "\n",
    "\n",
    "def reshape_data(x: np.ndarray, y: np.ndarray, seq_length: int, past_len: int) :\n",
    "    num_samples, num_features = x.shape\n",
    "\n",
    "    x_new = np.zeros((num_samples - seq_length + 1, seq_length, num_features))\n",
    "    y_new = np.zeros((num_samples - seq_length + 1, past_len, 1))\n",
    "\n",
    "    for i in range(0, x_new.shape[0]):\n",
    "        x_new[i, :, :num_features] = x[i:i + seq_length, :]\n",
    "        y_new[i, :, :] = y[i + seq_length - 1, 0]\n",
    "\n",
    "    return x_new, y_new\n",
    "seq_length=30\n",
    "past_len=7\n",
    "num_samples, num_features = x.shape\n",
    "\n",
    "x_new = np.zeros((num_samples - seq_length + 1, seq_length, num_features))\n",
    "y_new = np.zeros((num_samples - seq_length + 1, past_len, 1))\n",
    "\n",
    "for i in range(0, x_new.shape[0]):\n",
    "    x_new[i, :, :num_features] = x[i:i + seq_length, :]\n",
    "    y_new[i, :, :] = y[i + seq_length - past_len-1:i + seq_length - 1, :]"
   ]
  },
  {
   "cell_type": "code",
   "execution_count": null,
   "id": "1b35d876",
   "metadata": {},
   "outputs": [],
   "source": []
  },
  {
   "cell_type": "code",
   "execution_count": 32,
   "id": "95f66063",
   "metadata": {},
   "outputs": [
    {
     "data": {
      "text/plain": [
       "3"
      ]
     },
     "execution_count": 32,
     "metadata": {},
     "output_type": "execute_result"
    }
   ],
   "source": [
    "import torch\n",
    "\n",
    "x = torch.rand(4,20,1)\n",
    "# torch.mean(x,dim=1).shape\n",
    "len(x.shape)"
   ]
  },
  {
   "cell_type": "code",
   "execution_count": 33,
   "id": "09e10d13",
   "metadata": {},
   "outputs": [
    {
     "data": {
      "text/plain": [
       "({'return_period_1.01_window_0.0_precision': 0.0,\n",
       "  'return_period_1.01_window_0.0_recall': 0,\n",
       "  'return_period_1.01_window_1.0_precision': 0.0,\n",
       "  'return_period_1.01_window_1.0_recall': 0,\n",
       "  'return_period_1.01_window_2.0_precision': 0.0,\n",
       "  'return_period_1.01_window_2.0_recall': 0,\n",
       "  'return_period_2_window_0.0_precision': 0.15384615384615385,\n",
       "  'return_period_2_window_0.0_recall': 0.18181818181818182,\n",
       "  'return_period_2_window_1.0_precision': 0.38461538461538464,\n",
       "  'return_period_2_window_1.0_recall': 0.45454545454545453,\n",
       "  'return_period_2_window_2.0_precision': 0.38461538461538464,\n",
       "  'return_period_2_window_2.0_recall': 0.45454545454545453,\n",
       "  'return_period_5_window_0.0_precision': 0.0,\n",
       "  'return_period_5_window_0.0_recall': 0.0,\n",
       "  'return_period_5_window_1.0_precision': 0.0,\n",
       "  'return_period_5_window_1.0_recall': 0.0,\n",
       "  'return_period_5_window_2.0_precision': 0.0,\n",
       "  'return_period_5_window_2.0_recall': 0.0,\n",
       "  'return_period_10_window_0.0_precision': 0.0,\n",
       "  'return_period_10_window_0.0_recall': 0.0,\n",
       "  'return_period_10_window_1.0_precision': 0.0,\n",
       "  'return_period_10_window_1.0_recall': 0.0,\n",
       "  'return_period_10_window_2.0_precision': 0.0,\n",
       "  'return_period_10_window_2.0_recall': 0.0,\n",
       "  'return_period_20_window_0.0_precision': 0.0,\n",
       "  'return_period_20_window_0.0_recall': 0.0,\n",
       "  'return_period_20_window_1.0_precision': 0.0,\n",
       "  'return_period_20_window_1.0_recall': 0.0,\n",
       "  'return_period_20_window_2.0_precision': 0.0,\n",
       "  'return_period_20_window_2.0_recall': 0.0,\n",
       "  'return_period_50_window_0.0_precision': 1,\n",
       "  'return_period_50_window_0.0_recall': 1,\n",
       "  'return_period_50_window_1.0_precision': 1,\n",
       "  'return_period_50_window_1.0_recall': 1,\n",
       "  'return_period_50_window_2.0_precision': 1,\n",
       "  'return_period_50_window_2.0_recall': 1},\n",
       " {'return_period_1.01': 9.350249042709915,\n",
       "  'return_period_2': 28.297053225238315,\n",
       "  'return_period_5': 42.309073607807385,\n",
       "  'return_period_10': 52.23441513937615,\n",
       "  'return_period_20': 62.17934833356154,\n",
       "  'return_period_50': 75.67479704154074})"
      ]
     },
     "execution_count": 33,
     "metadata": {},
     "output_type": "execute_result"
    }
   ],
   "source": [
    "data_file = r'E:\\cyh\\global_streamflow_model_paper-main\\global_streamflow_model_paper-main\\Model\\result\\Mulscale-gmm\\01365000.csv'\n",
    "\n",
    "hydro_series = pd.read_csv(data_file, index_col=0)\n",
    "hydro_series.columns = ['qobs', 'qsim', 'month', 'day',\"weekend\", 'year']\n",
    "\n",
    "time_df = hydro_series[['month', 'day', 'year']]\n",
    "indx = pd.to_datetime(time_df)\n",
    "hydro_series.index = indx.astype(\"str\")\n",
    "\n",
    "obs_series = hydro_series.iloc[:, 0]\n",
    "sim_seres = hydro_series.iloc[:, 1]\n",
    "\n",
    "dt = calculate_return_period_performance_metrics(observations=obs_series, predictions=sim_seres,\n",
    "                                                     temporal_resolution=\"1D\")\n",
    "dt"
   ]
  },
  {
   "cell_type": "code",
   "execution_count": 17,
   "id": "cdf826d4",
   "metadata": {},
   "outputs": [],
   "source": [
    "import numpy as np\n",
    "import pandas as pd\n",
    "import os\n",
    "from backend.return_period_metrics import calculate_return_period_performance_metrics\n",
    "from tqdm import tqdm\n",
    "import warnings\n",
    "warnings.filterwarnings('ignore')"
   ]
  },
  {
   "cell_type": "code",
   "execution_count": 20,
   "id": "a8ae9687",
   "metadata": {},
   "outputs": [],
   "source": [
    "from backend import data_paths\n",
    "from backend import evaluation_utils\n",
    "from backend import gauge_groups_utils\n",
    "from backend import loading_utils\n",
    "from backend import metrics_utils\n",
    "from backend import return_period_metrics\n",
    "from backend.return_period_calculator import return_period_calculator\n",
    "_DEFAULT_PLOTTING_RETURN_PERIODS = np.array([1.01, 2, 5, 10, 20, 50, 100])\n",
    "temporal_resolution=\"1D\""
   ]
  },
  {
   "cell_type": "code",
   "execution_count": 13,
   "id": "117ecfba",
   "metadata": {},
   "outputs": [],
   "source": [
    "# observations=obs_series\n",
    "# predictions=sim_seres"
   ]
  },
  {
   "cell_type": "code",
   "execution_count": 62,
   "id": "5f9b2380",
   "metadata": {},
   "outputs": [
    {
     "name": "stderr",
     "output_type": "stream",
     "text": [
      "100%|████████████████████████████████████████████████████████████████████████████████| 482/482 [05:03<00:00,  1.59it/s]\n"
     ]
    }
   ],
   "source": [
    "#生成标签文件\n",
    "root_path = r'E:\\cyh\\water_data\\Caravan\\timeseries\\csv\\camels'\n",
    "save_path = r'E:\\cyh\\water_data\\Caravan\\timeseries\\label\\camels'\n",
    "for file in tqdm(os.listdir(root_path)):\n",
    "    data_file = os.path.join(root_path,file)\n",
    "    basin = file.split(\".\")[0]\n",
    "    df = pd.read_csv(data_file)\n",
    "    df.index = pd.to_datetime(df.date)\n",
    "    df = df.truncate(before='1981-01-01',after=\"2014-12-31\")\n",
    "    df = df.fillna(method='ffill')\n",
    "    df = df.fillna(method='bfill')\n",
    "\n",
    "    calculator = return_period_calculator.ReturnPeriodCalculator(\n",
    "                hydrograph_series=df.iloc[:,-1],\n",
    "                hydrograph_series_frequency=temporal_resolution,\n",
    "                use_simple_fitting=True,\n",
    "                verbose=False,\n",
    "            )\n",
    "    #设定异常的阈值\n",
    "#     threshold = calculator.flow_value_from_return_period(np.array([2.01]))\n",
    "#     df[\"label\"] = (df.iloc[:,-1] > threshold[0]).astype(\"int\")\n",
    "    df[\"label\"] = df[\"streamflow\"].apply(score).astype(\"int\")\n",
    "    result = pd.get_dummies(df[\"label\"],columns=[1,2,3,4]).astype('int').reindex(columns=[0,1,2,3,4], fill_value=0)\n",
    "    save_file = os.path.join(save_path,f\"{basin}.csv\")\n",
    "    result.to_csv(save_file)"
   ]
  },
  {
   "cell_type": "code",
   "execution_count": null,
   "id": "464e3edf",
   "metadata": {},
   "outputs": [],
   "source": []
  },
  {
   "cell_type": "code",
   "execution_count": 30,
   "id": "1db9804e",
   "metadata": {},
   "outputs": [],
   "source": [
    "def score(x):\n",
    "    if x < calculator.flow_value_from_return_period(np.array([1.01])):\n",
    "        return 0\n",
    "    elif x > calculator.flow_value_from_return_period(np.array([1.01])):\n",
    "        return 1\n",
    "    elif x > calculator.flow_value_from_return_period(np.array([2.01])):\n",
    "        return 2\n",
    "    elif x > calculator.flow_value_from_return_period(np.array([5.01])):\n",
    "        return 3\n",
    "    elif x > calculator.flow_value_from_return_period(np.array([10.01])):\n",
    "        return 4\n"
   ]
  },
  {
   "cell_type": "code",
   "execution_count": 44,
   "id": "5dd335c3",
   "metadata": {},
   "outputs": [],
   "source": [
    "#sim_seres or obs_series\n",
    "calculator = return_period_calculator.ReturnPeriodCalculator(\n",
    "            hydrograph_series=obs_series,\n",
    "            hydrograph_series_frequency=temporal_resolution,\n",
    "            use_simple_fitting=True,\n",
    "            verbose=False,\n",
    "        )"
   ]
  },
  {
   "cell_type": "code",
   "execution_count": 45,
   "id": "57c5d5bc",
   "metadata": {},
   "outputs": [
    {
     "data": {
      "text/plain": [
       "array([0.15494431])"
      ]
     },
     "execution_count": 45,
     "metadata": {},
     "output_type": "execute_result"
    }
   ],
   "source": [
    "calculator.flow_value_from_return_period(np.array([1.01]))"
   ]
  },
  {
   "cell_type": "code",
   "execution_count": 46,
   "id": "56069313",
   "metadata": {},
   "outputs": [
    {
     "data": {
      "image/png": "[encoded data removed]",
      "text/plain": [
       "<Figure size 1000x600 with 1 Axes>"
      ]
     },
     "metadata": {},
     "output_type": "display_data"
    }
   ],
   "source": [
    "calculator.plot_hydrograph_with_peaks()"
   ]
  },
  {
   "cell_type": "code",
   "execution_count": 41,
   "id": "26282fe8",
   "metadata": {},
   "outputs": [
    {
     "data": {
      "image/png": "[encoded data removed]",
      "text/plain": [
       "<Figure size 1000x600 with 1 Axes>"
      ]
     },
     "metadata": {},
     "output_type": "display_data"
    }
   ],
   "source": [
    "calculator.plot_exceedence_probability_distribution()"
   ]
  },
  {
   "cell_type": "code",
   "execution_count": 42,
   "id": "7e7fcb7d",
   "metadata": {},
   "outputs": [
    {
     "data": {
      "image/png": "[encoded data removed]",
      "text/plain": [
       "<Figure size 1000x600 with 1 Axes>"
      ]
     },
     "metadata": {},
     "output_type": "display_data"
    }
   ],
   "source": [
    "calculator.plot_fitted_distribution()"
   ]
  }
 ],
 "metadata": {
  "kernelspec": {
   "display_name": "segment",
   "language": "python",
   "name": "segment"
  },
  "language_info": {
   "codemirror_mode": {
    "name": "ipython",
    "version": 3
   },
   "file_extension": ".py",
   "mimetype": "text/x-python",
   "name": "python",
   "nbconvert_exporter": "python",
   "pygments_lexer": "ipython3",
   "version": "3.10.14"
  }
 },
 "nbformat": 4,
 "nbformat_minor": 5
}
